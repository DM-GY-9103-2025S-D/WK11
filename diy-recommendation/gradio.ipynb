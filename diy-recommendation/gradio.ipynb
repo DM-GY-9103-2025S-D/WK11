{
 "cells": [
  {
   "cell_type": "code",
   "execution_count": null,
   "metadata": {},
   "outputs": [],
   "source": [
    "import gradio as gr\n",
    "\n",
    "from os import listdir, path\n",
    "from PIL import Image as PImage\n",
    "from transformers import pipeline"
   ]
  },
  {
   "cell_type": "code",
   "execution_count": null,
   "metadata": {},
   "outputs": [],
   "source": [
    "DIY_MODEL = \"merelevy/diy-recommendation2\"\n",
    "pipe = pipeline(\"image-classification\", model=DIY_MODEL)"
   ]
  },
  {
   "cell_type": "markdown",
   "metadata": {},
   "source": [
    "## Model Test"
   ]
  },
  {
   "cell_type": "code",
   "execution_count": null,
   "metadata": {},
   "outputs": [],
   "source": [
    "jpg_files = [f for f in listdir(\"./imgs\") if f.endswith(\"jpg\")]\n",
    "for jf in jpg_files:\n",
    "  img = PImage.open(path.join(\"./imgs\", jf))\n",
    "  res = pipe(img)\n",
    "  print(jf, res[0][\"label\"])"
   ]
  },
  {
   "cell_type": "markdown",
   "metadata": {},
   "source": [
    "## Gradio Server"
   ]
  },
  {
   "cell_type": "code",
   "execution_count": null,
   "metadata": {},
   "outputs": [],
   "source": [
    "def classify(img):\n",
    "  res = pipe(img)\n",
    "  label = res[0][\"label\"]\n",
    "  score = res[0][\"score\"]\n",
    "  return f\"{label}, {score}\"\n",
    "\n",
    "gr.Interface(fn=classify, inputs=gr.Image(type=\"pil\"), outputs=\"text\").launch()"
   ]
  }
 ],
 "metadata": {
  "kernelspec": {
   "display_name": "gradio",
   "language": "python",
   "name": "python3"
  },
  "language_info": {
   "codemirror_mode": {
    "name": "ipython",
    "version": 3
   },
   "file_extension": ".py",
   "mimetype": "text/x-python",
   "name": "python",
   "nbconvert_exporter": "python",
   "pygments_lexer": "ipython3",
   "version": "3.10.16"
  }
 },
 "nbformat": 4,
 "nbformat_minor": 2
}
